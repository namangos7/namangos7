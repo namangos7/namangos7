{
  "nbformat": 4,
  "nbformat_minor": 0,
  "metadata": {
    "colab": {
      "provenance": [],
      "include_colab_link": true
    },
    "kernelspec": {
      "name": "python3",
      "display_name": "Python 3"
    },
    "language_info": {
      "name": "python"
    }
  },
  "cells": [
    {
      "cell_type": "markdown",
      "metadata": {
        "id": "view-in-github",
        "colab_type": "text"
      },
      "source": [
        "<a href=\"https://colab.research.google.com/github/namangos7/namangos7/blob/Exercises/Exercise_2.ipynb\" target=\"_parent\"><img src=\"https://colab.research.google.com/assets/colab-badge.svg\" alt=\"Open In Colab\"/></a>"
      ]
    },
    {
      "cell_type": "code",
      "execution_count": null,
      "metadata": {
        "id": "hwVYcM87OOfE"
      },
      "outputs": [],
      "source": [
        "class Dog:\n",
        "  species = \"Canis familiaris\"\n",
        "\n",
        "  def __init__(self, name, age, breed):\n",
        "    self.name = name\n",
        "    self.age = age\n",
        "    self.breed = breed \n",
        "\n",
        "  def __str__(self):\n",
        "    return f\"{self.name} is {self.age} years old\" \n",
        "\n",
        "  def speak(self, sound=\"GRRR\"):\n",
        "    return f\"{self.name} says {sound}\"\n"
      ]
    },
    {
      "cell_type": "code",
      "source": [
        "miles = Dog (\"miles\",7, \"Alabai\")"
      ],
      "metadata": {
        "id": "nRpTSrv7O_S_"
      },
      "execution_count": null,
      "outputs": []
    },
    {
      "cell_type": "code",
      "source": [
        "miles.name"
      ],
      "metadata": {
        "colab": {
          "base_uri": "https://localhost:8080/",
          "height": 37
        },
        "id": "vtTVu5gdPMHL",
        "outputId": "a92ac5db-0bd3-4c67-9cd4-bbcc07263c04"
      },
      "execution_count": null,
      "outputs": [
        {
          "output_type": "execute_result",
          "data": {
            "text/plain": [
              "'miles'"
            ],
            "application/vnd.google.colaboratory.intrinsic+json": {
              "type": "string"
            }
          },
          "metadata": {},
          "execution_count": 200
        }
      ]
    },
    {
      "cell_type": "code",
      "source": [
        "miles.breed"
      ],
      "metadata": {
        "colab": {
          "base_uri": "https://localhost:8080/",
          "height": 37
        },
        "id": "vK68ynNXPOUz",
        "outputId": "e9f2b2a1-52c1-4287-83f3-d695040c50c4"
      },
      "execution_count": null,
      "outputs": [
        {
          "output_type": "execute_result",
          "data": {
            "text/plain": [
              "'Alabai'"
            ],
            "application/vnd.google.colaboratory.intrinsic+json": {
              "type": "string"
            }
          },
          "metadata": {},
          "execution_count": 201
        }
      ]
    },
    {
      "cell_type": "code",
      "source": [
        "class GermanSheepard(Dog):\n",
        "  def speak(self, sound = \"Arfaf\"):\n",
        "    return super().speak(sound)"
      ],
      "metadata": {
        "id": "x8KUgq7aPYDb"
      },
      "execution_count": null,
      "outputs": []
    },
    {
      "cell_type": "code",
      "source": [
        "Aktos = Dog(\"Aktos\", 6, \"Alabai\")"
      ],
      "metadata": {
        "id": "8m1t7Cl4QE2r"
      },
      "execution_count": null,
      "outputs": []
    },
    {
      "cell_type": "code",
      "source": [
        "print(Aktos)"
      ],
      "metadata": {
        "colab": {
          "base_uri": "https://localhost:8080/"
        },
        "id": "ptxkcXVNQPx6",
        "outputId": "407e149f-6552-4e99-bd2b-54c5e78d0aec"
      },
      "execution_count": null,
      "outputs": [
        {
          "output_type": "stream",
          "name": "stdout",
          "text": [
            "Aktos is 6 years old\n"
          ]
        }
      ]
    },
    {
      "cell_type": "code",
      "source": [
        "Aktos.speak"
      ],
      "metadata": {
        "colab": {
          "base_uri": "https://localhost:8080/"
        },
        "id": "dbBmT3r4QS3L",
        "outputId": "ad0678ef-a3c5-4184-bfed-3a6065b40d2b"
      },
      "execution_count": null,
      "outputs": [
        {
          "output_type": "execute_result",
          "data": {
            "text/plain": [
              "<bound method Dog.speak of <__main__.Dog object at 0x7fbc903ec9d0>>"
            ]
          },
          "metadata": {},
          "execution_count": 205
        }
      ]
    },
    {
      "cell_type": "code",
      "source": [
        "Aktos.speak('Woof')"
      ],
      "metadata": {
        "colab": {
          "base_uri": "https://localhost:8080/",
          "height": 37
        },
        "id": "Ed2yMgdxQa1R",
        "outputId": "739f299c-f3c3-409d-fc7c-258fcb802cbc"
      },
      "execution_count": null,
      "outputs": [
        {
          "output_type": "execute_result",
          "data": {
            "text/plain": [
              "'Aktos says Woof'"
            ],
            "application/vnd.google.colaboratory.intrinsic+json": {
              "type": "string"
            }
          },
          "metadata": {},
          "execution_count": 206
        }
      ]
    },
    {
      "cell_type": "code",
      "source": [
        "Rex = GermanSheepard(\"Rex\", 5, \"GermanSheepard\")"
      ],
      "metadata": {
        "id": "Z-oGTk2UQh_Z"
      },
      "execution_count": null,
      "outputs": []
    },
    {
      "cell_type": "code",
      "source": [
        "print(Rex)"
      ],
      "metadata": {
        "colab": {
          "base_uri": "https://localhost:8080/"
        },
        "id": "TJAGxejGQ2BN",
        "outputId": "3dfa23ba-049d-4d12-bbe5-3f339c9bd894"
      },
      "execution_count": null,
      "outputs": [
        {
          "output_type": "stream",
          "name": "stdout",
          "text": [
            "Rex is 5 years old\n"
          ]
        }
      ]
    },
    {
      "cell_type": "code",
      "source": [
        "Rex.speak"
      ],
      "metadata": {
        "colab": {
          "base_uri": "https://localhost:8080/"
        },
        "id": "Pjojo4bKQ4Zb",
        "outputId": "569689be-f1e7-4bf1-b7af-35106ba4a698"
      },
      "execution_count": null,
      "outputs": [
        {
          "output_type": "execute_result",
          "data": {
            "text/plain": [
              "<bound method GermanSheepard.speak of <__main__.GermanSheepard object at 0x7fbc9041cb50>>"
            ]
          },
          "metadata": {},
          "execution_count": 209
        }
      ]
    },
    {
      "cell_type": "code",
      "source": [
        "Rex.speak(\"Grrr\")"
      ],
      "metadata": {
        "colab": {
          "base_uri": "https://localhost:8080/",
          "height": 37
        },
        "id": "WQxkHQwJQ8FR",
        "outputId": "c7a44c7f-6939-494a-f34b-0442d15b0758"
      },
      "execution_count": null,
      "outputs": [
        {
          "output_type": "execute_result",
          "data": {
            "text/plain": [
              "'Rex says Grrr'"
            ],
            "application/vnd.google.colaboratory.intrinsic+json": {
              "type": "string"
            }
          },
          "metadata": {},
          "execution_count": 210
        }
      ]
    },
    {
      "cell_type": "code",
      "source": [
        "Rex.speak()"
      ],
      "metadata": {
        "colab": {
          "base_uri": "https://localhost:8080/",
          "height": 37
        },
        "id": "Ea_nJwr2RAdO",
        "outputId": "cd715ae6-7b8a-4f57-dddb-efcca8b8322e"
      },
      "execution_count": null,
      "outputs": [
        {
          "output_type": "execute_result",
          "data": {
            "text/plain": [
              "'Rex says Arfaf'"
            ],
            "application/vnd.google.colaboratory.intrinsic+json": {
              "type": "string"
            }
          },
          "metadata": {},
          "execution_count": 211
        }
      ]
    },
    {
      "cell_type": "code",
      "source": [
        "Aktos.speak()"
      ],
      "metadata": {
        "colab": {
          "base_uri": "https://localhost:8080/",
          "height": 37
        },
        "id": "STjMXR1DREKL",
        "outputId": "b38c94dd-42b1-4208-edfc-1436519aa34d"
      },
      "execution_count": null,
      "outputs": [
        {
          "output_type": "execute_result",
          "data": {
            "text/plain": [
              "'Aktos says GRRR'"
            ],
            "application/vnd.google.colaboratory.intrinsic+json": {
              "type": "string"
            }
          },
          "metadata": {},
          "execution_count": 212
        }
      ]
    },
    {
      "cell_type": "code",
      "source": [
        "Rex.speak()"
      ],
      "metadata": {
        "colab": {
          "base_uri": "https://localhost:8080/",
          "height": 37
        },
        "id": "gzGrqcTERI_J",
        "outputId": "91339327-ed03-4659-b2d0-5f0884245507"
      },
      "execution_count": null,
      "outputs": [
        {
          "output_type": "execute_result",
          "data": {
            "text/plain": [
              "'Rex says Arfaf'"
            ],
            "application/vnd.google.colaboratory.intrinsic+json": {
              "type": "string"
            }
          },
          "metadata": {},
          "execution_count": 213
        }
      ]
    },
    {
      "cell_type": "code",
      "source": [
        "# Code for creating a spiral dataset from CS231n\n",
        "import torch\n",
        "from sklearn.model_selection import train_test_split\n",
        "import numpy as np\n",
        "import matplotlib .pyplot as plt\n",
        "NUM_CLASSES = 3\n",
        "NUM_FEATURES = 2\n",
        "RANDOM_SEED = 42\n",
        "N = 100 # number of points per class\n",
        "D = 2 # dimensionality\n",
        "K = 3 # number of classes\n",
        "X = np.zeros((N*K,D)) # data matrix (each row = single example)\n",
        "y = np.zeros(N*K, dtype='uint8') # class labels\n",
        "for j in range(K):\n",
        "  ix = range(N*j,N*(j+1))\n",
        "  r = np.linspace(0.0,1,N) # radius\n",
        "  t = np.linspace(j*4,(j+1)*4,N) + np.random.randn(N)*0.2 # theta\n",
        "  X[ix] = np.c_[r*np.sin(t), r*np.cos(t)]\n",
        "  y[ix] = j\n",
        "  X_spiral = torch.from_numpy(X).type(torch.float)\n",
        "  y_spiral = torch.from_numpy(y).type(torch.LongTensor)\n",
        "  print(X_spiral[:10], y_spiral[:10])\n",
        "  \n",
        "  X_spiral_train, X_spiral_test, y_spiral_train, y_spiral_test = train_test_split(X_spiral,\n",
        "    y_spiral,\n",
        "    test_size=0.2,\n",
        "    random_state=RANDOM_SEED\n",
        ")\n",
        "  # lets visualize the data\n",
        "plt.scatter(X[:, 0], X[:, 1], c=y, s=40, cmap=plt.cm.Spectral)\n",
        "plt.show()\n"
      ],
      "metadata": {
        "colab": {
          "base_uri": "https://localhost:8080/",
          "height": 775
        },
        "id": "SWraVD37Rve5",
        "outputId": "ca1353cd-2076-4b16-9339-6420cb5a5961"
      },
      "execution_count": null,
      "outputs": [
        {
          "output_type": "stream",
          "name": "stdout",
          "text": [
            "tensor([[ 0.0000,  0.0000],\n",
            "        [-0.0011,  0.0100],\n",
            "        [-0.0011,  0.0202],\n",
            "        [-0.0027,  0.0302],\n",
            "        [-0.0009,  0.0404],\n",
            "        [ 0.0242,  0.0443],\n",
            "        [-0.0139,  0.0590],\n",
            "        [ 0.0237,  0.0666],\n",
            "        [ 0.0382,  0.0712],\n",
            "        [ 0.0467,  0.0780]]) tensor([0, 0, 0, 0, 0, 0, 0, 0, 0, 0])\n",
            "tensor([[ 0.0000,  0.0000],\n",
            "        [-0.0011,  0.0100],\n",
            "        [-0.0011,  0.0202],\n",
            "        [-0.0027,  0.0302],\n",
            "        [-0.0009,  0.0404],\n",
            "        [ 0.0242,  0.0443],\n",
            "        [-0.0139,  0.0590],\n",
            "        [ 0.0237,  0.0666],\n",
            "        [ 0.0382,  0.0712],\n",
            "        [ 0.0467,  0.0780]]) tensor([0, 0, 0, 0, 0, 0, 0, 0, 0, 0])\n",
            "tensor([[ 0.0000,  0.0000],\n",
            "        [-0.0011,  0.0100],\n",
            "        [-0.0011,  0.0202],\n",
            "        [-0.0027,  0.0302],\n",
            "        [-0.0009,  0.0404],\n",
            "        [ 0.0242,  0.0443],\n",
            "        [-0.0139,  0.0590],\n",
            "        [ 0.0237,  0.0666],\n",
            "        [ 0.0382,  0.0712],\n",
            "        [ 0.0467,  0.0780]]) tensor([0, 0, 0, 0, 0, 0, 0, 0, 0, 0])\n"
          ]
        },
        {
          "output_type": "display_data",
          "data": {
            "text/plain": [
              "<Figure size 432x288 with 1 Axes>"
            ],
            "image/png": "[encoded data removed]"
          },
          "metadata": {
            "needs_background": "light"
          }
        }
      ]
    },
    {
      "cell_type": "code",
      "source": [
        "# Create device agnostic code\n",
        "device = \"cuda\" if torch.cuda.is_available() else \"cpu\"\n",
        "device"
      ],
      "metadata": {
        "colab": {
          "base_uri": "https://localhost:8080/",
          "height": 37
        },
        "id": "K-b8tlHCX3Di",
        "outputId": "aeec6f32-a35b-40ea-9265-cd3625fa2ce3"
      },
      "execution_count": null,
      "outputs": [
        {
          "output_type": "execute_result",
          "data": {
            "text/plain": [
              "'cpu'"
            ],
            "application/vnd.google.colaboratory.intrinsic+json": {
              "type": "string"
            }
          },
          "metadata": {},
          "execution_count": 215
        }
      ]
    },
    {
      "cell_type": "code",
      "source": [
        "from torch import nn\n",
        "\n",
        "class SpiralMode(nn.Module):\n",
        "  def __init__ (self, input_features, output_features, hidden_units=8):\n",
        "\n",
        "    super().__init__()\n",
        "    self.linear_layer_stack = nn.Sequential(\n",
        "        nn.Linear(in_features=input_features, out_features=hidden_units),\n",
        "        nn.ReLU(),\n",
        "\n",
        "        nn.Linear(in_features=hidden_units, out_features=hidden_units),\n",
        "        nn.ReLU(),\n",
        "\n",
        "        nn.Linear(in_features=hidden_units, out_features=output_features),\n",
        "\n",
        "    )\n",
        "\n",
        "  def forward(self, x):\n",
        "      return self.linear_layer_stack(x)\n",
        "\n",
        "model_exercise_2 = SpiralMode(input_features=NUM_FEATURES,\n",
        "                                output_features=NUM_CLASSES,\n",
        "                                hidden_units=8).to(device)\n",
        "model_exercise_2\n",
        "  "
      ],
      "metadata": {
        "colab": {
          "base_uri": "https://localhost:8080/"
        },
        "id": "tqn1XdOebO-r",
        "outputId": "e4934dd4-ed25-4514-ecfa-9a16881d3c71"
      },
      "execution_count": null,
      "outputs": [
        {
          "output_type": "execute_result",
          "data": {
            "text/plain": [
              "SpiralMode(\n",
              "  (linear_layer_stack): Sequential(\n",
              "    (0): Linear(in_features=2, out_features=8, bias=True)\n",
              "    (1): ReLU()\n",
              "    (2): Linear(in_features=8, out_features=8, bias=True)\n",
              "    (3): ReLU()\n",
              "    (4): Linear(in_features=8, out_features=3, bias=True)\n",
              "  )\n",
              ")"
            ]
          },
          "metadata": {},
          "execution_count": 216
        }
      ]
    },
    {
      "cell_type": "code",
      "source": [
        "loss_fn = nn.CrossEntropyLoss()\n",
        "optimizer = torch.optim.Adam(model_exercise_2.parameters(), lr=0.3)"
      ],
      "metadata": {
        "id": "sxPtw1CGbuqP"
      },
      "execution_count": null,
      "outputs": []
    },
    {
      "cell_type": "code",
      "source": [
        "model_exercise_2(X_spiral_train.to(device))[:5]"
      ],
      "metadata": {
        "colab": {
          "base_uri": "https://localhost:8080/"
        },
        "id": "pLJOGxQTeEd3",
        "outputId": "2a2d6d3f-00ce-4ae7-afd2-80160ff9dec3"
      },
      "execution_count": null,
      "outputs": [
        {
          "output_type": "execute_result",
          "data": {
            "text/plain": [
              "tensor([[-0.0539, -0.3467, -0.2058],\n",
              "        [-0.0713, -0.3461, -0.2293],\n",
              "        [-0.0709, -0.3821, -0.2485],\n",
              "        [-0.2002, -0.3881, -0.4341],\n",
              "        [-0.1259, -0.4288, -0.3455]], grad_fn=<SliceBackward0>)"
            ]
          },
          "metadata": {},
          "execution_count": 218
        }
      ]
    },
    {
      "cell_type": "code",
      "source": [
        "# Make prediction logits with model\n",
        "y_logits = model_exercise_2(X_spiral_test.to(device))\n",
        "\n",
        "# Perform softmax calculation on logits across dimension 1 to get prediction probabilities\n",
        "y_pred_probs = torch.softmax(y_logits, dim=1) \n",
        "print(y_logits[:5])\n",
        "print(y_pred_probs[:5])"
      ],
      "metadata": {
        "colab": {
          "base_uri": "https://localhost:8080/"
        },
        "id": "mLdznisye3ix",
        "outputId": "a18a81e9-0d83-4e1d-b7fb-6d33ce4b2e17"
      },
      "execution_count": null,
      "outputs": [
        {
          "output_type": "stream",
          "name": "stdout",
          "text": [
            "tensor([[-0.0733, -0.3828, -0.2455],\n",
            "        [-0.0436, -0.3079, -0.1801],\n",
            "        [-0.0832, -0.3917, -0.2734],\n",
            "        [-0.0763, -0.3905, -0.2552],\n",
            "        [-0.0595, -0.3522, -0.2111]], grad_fn=<SliceBackward0>)\n",
            "tensor([[0.3883, 0.2849, 0.3268],\n",
            "        [0.3788, 0.2908, 0.3304],\n",
            "        [0.3904, 0.2868, 0.3228],\n",
            "        [0.3896, 0.2846, 0.3258],\n",
            "        [0.3838, 0.2864, 0.3298]], grad_fn=<SliceBackward0>)\n"
          ]
        }
      ]
    },
    {
      "cell_type": "code",
      "source": [
        "# Sum the first sample output of the softmax activation function \n",
        "torch.sum(y_pred_probs[0])"
      ],
      "metadata": {
        "colab": {
          "base_uri": "https://localhost:8080/"
        },
        "id": "fQOg1qzufTLZ",
        "outputId": "2a0bef49-d640-4129-8c47-690a94674668"
      },
      "execution_count": null,
      "outputs": [
        {
          "output_type": "execute_result",
          "data": {
            "text/plain": [
              "tensor(1., grad_fn=<SumBackward0>)"
            ]
          },
          "metadata": {},
          "execution_count": 220
        }
      ]
    },
    {
      "cell_type": "code",
      "source": [
        "# Which class does the model think is *most* likely at the index 0 sample?\n",
        "print(y_pred_probs[0])\n",
        "print(torch.argmax(y_pred_probs[0]))"
      ],
      "metadata": {
        "colab": {
          "base_uri": "https://localhost:8080/"
        },
        "id": "iiokTXJ2fcvj",
        "outputId": "fd4814a9-b983-42ce-d842-a3aa8e2228d6"
      },
      "execution_count": null,
      "outputs": [
        {
          "output_type": "stream",
          "name": "stdout",
          "text": [
            "tensor([0.3883, 0.2849, 0.3268], grad_fn=<SelectBackward0>)\n",
            "tensor(0)\n"
          ]
        }
      ]
    },
    {
      "cell_type": "code",
      "source": [
        "def accuracy_fn(y_true, y_pred):\n",
        "    correct = torch.eq(y_true, y_pred).sum().item() # torch.eq() calculates where two tensors are equal\n",
        "    acc = (correct / len(y_pred)) * 100 \n",
        "    return acc"
      ],
      "metadata": {
        "id": "uGD_zaEsi16P"
      },
      "execution_count": null,
      "outputs": []
    },
    {
      "cell_type": "code",
      "source": [
        "torch.manual_seed(42)\n",
        "\n",
        "epochs = 200\n",
        "X_spiral_train, y_spiral_train = X_spiral_train.to(device), y_spiral_train.to(device)\n",
        "X_spiral_test, y_blob_test = X_spiral_test.to(device), y_spiral_test.to(device)\n",
        "\n",
        "for epoch in range(epochs):\n",
        "    ### Training\n",
        "    model_exercise_2.train()\n",
        "\n",
        "    # 1. Forward pass\n",
        "    y_logits = model_exercise_2(X_spiral_train) # model outputs raw logits \n",
        "    y_pred = torch.softmax(y_logits, dim=1).argmax(dim=1) # go from logits -> prediction probabilities -> prediction labels\n",
        "    # print(y_logits)\n",
        "    # 2. Calculate loss and accuracy\n",
        "    loss = loss_fn(y_logits, y_spiral_train) \n",
        "    acc = accuracy_fn(y_true=y_spiral_train,\n",
        "                      y_pred=y_pred)\n",
        "\n",
        "    # 3. Optimizer zero grad\n",
        "    optimizer.zero_grad()\n",
        "\n",
        "    # 4. Loss backwards\n",
        "    loss.backward()\n",
        "\n",
        "    # 5. Optimizer step\n",
        "    optimizer.step()\n",
        "\n",
        "    ### Testing\n",
        "    model_exercise_2.eval()\n",
        "    with torch.inference_mode():\n",
        "      # 1. Forward pass\n",
        "      test_logits = model_exercise_2(X_spiral_test)\n",
        "      test_pred = torch.softmax(test_logits, dim=1).argmax(dim=1)\n",
        "      # 2. Calculate test loss and accuracy\n",
        "      test_loss = loss_fn(test_logits, y_spiral_test)\n",
        "      test_acc = accuracy_fn(y_true=y_spiral_test,\n",
        "                             y_pred=test_pred)\n",
        "\n",
        "    # Print out what's happening\n",
        "    if epoch % 10 == 0:\n",
        "        print(f\"Epoch: {epoch} | Train Loss: {loss:.5f}, Acc: {acc:.2f}% | Test Loss: {test_loss:.5f}, Test Acc: {test_acc:.2f}%\")\n",
        "\n"
      ],
      "metadata": {
        "colab": {
          "base_uri": "https://localhost:8080/"
        },
        "id": "me3Zu0MLfjJK",
        "outputId": "522f7e7e-f7c0-425e-fb8f-945b5d02f09f"
      },
      "execution_count": null,
      "outputs": [
        {
          "output_type": "stream",
          "name": "stdout",
          "text": [
            "Epoch: 0 | Train Loss: 1.10315, Acc: 32.50% | Test Loss: 1.11501, Test Acc: 38.33%\n",
            "Epoch: 10 | Train Loss: 0.90035, Acc: 54.17% | Test Loss: 0.89712, Test Acc: 58.33%\n",
            "Epoch: 20 | Train Loss: 0.83606, Acc: 63.75% | Test Loss: 0.79588, Test Acc: 66.67%\n",
            "Epoch: 30 | Train Loss: 0.70367, Acc: 69.17% | Test Loss: 0.74392, Test Acc: 66.67%\n",
            "Epoch: 40 | Train Loss: 0.68078, Acc: 68.75% | Test Loss: 0.75434, Test Acc: 66.67%\n",
            "Epoch: 50 | Train Loss: 0.66931, Acc: 69.17% | Test Loss: 0.73895, Test Acc: 66.67%\n",
            "Epoch: 60 | Train Loss: 0.66084, Acc: 69.58% | Test Loss: 0.74361, Test Acc: 66.67%\n",
            "Epoch: 70 | Train Loss: 0.65792, Acc: 69.58% | Test Loss: 0.73555, Test Acc: 66.67%\n",
            "Epoch: 80 | Train Loss: 0.65442, Acc: 69.58% | Test Loss: 0.74042, Test Acc: 66.67%\n",
            "Epoch: 90 | Train Loss: 0.64621, Acc: 67.92% | Test Loss: 0.72620, Test Acc: 65.00%\n",
            "Epoch: 100 | Train Loss: 0.63284, Acc: 69.17% | Test Loss: 0.73930, Test Acc: 66.67%\n",
            "Epoch: 110 | Train Loss: 0.62035, Acc: 71.25% | Test Loss: 0.70442, Test Acc: 68.33%\n",
            "Epoch: 120 | Train Loss: 0.58464, Acc: 72.50% | Test Loss: 0.58894, Test Acc: 76.67%\n",
            "Epoch: 130 | Train Loss: 0.52945, Acc: 74.17% | Test Loss: 0.53906, Test Acc: 76.67%\n",
            "Epoch: 140 | Train Loss: 0.45695, Acc: 75.83% | Test Loss: 0.31757, Test Acc: 81.67%\n",
            "Epoch: 150 | Train Loss: 0.48263, Acc: 74.17% | Test Loss: 0.47942, Test Acc: 75.00%\n",
            "Epoch: 160 | Train Loss: 0.43600, Acc: 75.42% | Test Loss: 0.50711, Test Acc: 75.00%\n",
            "Epoch: 170 | Train Loss: 0.42724, Acc: 75.83% | Test Loss: 0.25919, Test Acc: 83.33%\n",
            "Epoch: 180 | Train Loss: 0.54306, Acc: 71.67% | Test Loss: 1.65821, Test Acc: 58.33%\n",
            "Epoch: 190 | Train Loss: 0.53112, Acc: 72.92% | Test Loss: 0.54917, Test Acc: 73.33%\n"
          ]
        }
      ]
    },
    {
      "cell_type": "code",
      "source": [
        "import requests\n",
        "from pathlib import Path \n",
        "\n",
        "# Download helper functions from Learn PyTorch repo (if not already downloaded)\n",
        "if Path(\"helper_functions.py\").is_file():\n",
        "  print(\"helper_functions.py already exists, skipping download\")\n",
        "else:\n",
        "  print(\"Downloading helper_functions.py\")\n",
        "  request = requests.get(\"https://raw.githubusercontent.com/mrdbourke/pytorch-deep-learning/main/helper_functions.py\")\n",
        "  with open(\"helper_functions.py\", \"wb\") as f:\n",
        "    f.write(request.content)\n",
        "\n",
        "from helper_functions import plot_predictions, plot_decision_boundary"
      ],
      "metadata": {
        "colab": {
          "base_uri": "https://localhost:8080/"
        },
        "id": "0gSdIc05i_y_",
        "outputId": "32675d79-d5a5-4201-d72d-8e54386759b6"
      },
      "execution_count": null,
      "outputs": [
        {
          "output_type": "stream",
          "name": "stdout",
          "text": [
            "helper_functions.py already exists, skipping download\n"
          ]
        }
      ]
    },
    {
      "cell_type": "code",
      "source": [
        "# Plot decision boundaries for training and test sets\n",
        "plt.figure(figsize=(12, 6))\n",
        "plt.subplot(1, 2, 1)\n",
        "plt.title(\"Train\")\n",
        "plot_decision_boundary(model_exercise_2, X_spiral_train, y_spiral_train)\n",
        "plt.subplot(1, 2, 2)\n",
        "plt.title(\"Test\")\n",
        "plot_decision_boundary(model_exercise_2, X_spiral_test, y_spiral_test)"
      ],
      "metadata": {
        "colab": {
          "base_uri": "https://localhost:8080/",
          "height": 390
        },
        "id": "cDdmFvIIjRVW",
        "outputId": "dec22516-4a57-4997-e360-751d0beaf266"
      },
      "execution_count": null,
      "outputs": [
        {
          "output_type": "display_data",
          "data": {
            "text/plain": [
              "<Figure size 864x432 with 2 Axes>"
            ],
            "image/png": "[encoded data removed]"
          },
          "metadata": {
            "needs_background": "light"
          }
        }
      ]
    },
    {
      "cell_type": "code",
      "source": [],
      "metadata": {
        "id": "uWgzwXZDjYV7"
      },
      "execution_count": null,
      "outputs": []
    }
  ]
}